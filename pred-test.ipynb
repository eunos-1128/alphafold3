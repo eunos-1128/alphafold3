{
 "cells": [
  {
   "cell_type": "code",
   "execution_count": 1,
   "id": "00ff7256-7f12-4171-9bb1-5f1b460e43b6",
   "metadata": {},
   "outputs": [],
   "source": [
    "# To work around a known XLA issue causing the compilation time to greatly\n",
    "# increase, the following environment variable setting XLA flags must be enabled\n",
    "# when running AlphaFold 3:\n",
    "export XLA_FLAGS=\"--xla_gpu_enable_triton_gemm=false\"\n",
    "\n",
    "# Memory settings used for folding up to 5,120 tokens on A100 80 GB.\n",
    "export XLA_PYTHON_CLIENT_PREALLOCATE=true\n",
    "export XLA_CLIENT_MEM_FRACTION=0.95"
   ]
  },
  {
   "cell_type": "code",
   "execution_count": null,
   "id": "0545bd89-f3d9-4770-a845-e04dded36f40",
   "metadata": {},
   "outputs": [],
   "source": [
    "python3 run_alphafold.py"
   ]
  }
 ],
 "metadata": {
  "kernelspec": {
   "display_name": "Z shell",
   "language": "zsh",
   "name": "zsh"
  },
  "language_info": {
   "codemirror_mode": "shell",
   "file_extension": ".zsh",
   "mimetype": "text/x-zsh",
   "name": "zsh",
   "pygments_lexer": "shell",
   "version": "5.7.1"
  }
 },
 "nbformat": 4,
 "nbformat_minor": 5
}
