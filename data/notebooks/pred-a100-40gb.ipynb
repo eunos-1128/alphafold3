{
 "cells": [
  {
   "cell_type": "markdown",
   "id": "6839b1a9",
   "metadata": {},
   "source": [
    "# Predictions on NVIDIA-A100-40GB"
   ]
  },
  {
   "cell_type": "code",
   "execution_count": null,
   "id": "7076068e",
   "metadata": {
    "vscode": {
     "languageId": "shellscript"
    }
   },
   "outputs": [],
   "source": [
    "# INPUT_FILE=${ALPHAFOLD3_DIR}/data/inputs/AziU2_AziU3_6OI.json\n",
    "# OUTPUT_DIR=${ALPHAFOLD3_DIR}/data/results"
   ]
  },
  {
   "cell_type": "code",
   "execution_count": null,
   "id": "00ff7256-7f12-4171-9bb1-5f1b460e43b6",
   "metadata": {
    "vscode": {
     "languageId": "shellscript"
    }
   },
   "outputs": [],
   "source": [
    "ALPHAFOLD3_DIR=${HOME}/alphafold3\n",
    "DB_DIR=${ALPHAFOLD3_DIR}/dbs\n",
    "MODEL_DIR=${ALPHAFOLD3_DIR}/weights"
   ]
  },
  {
   "cell_type": "code",
   "execution_count": null,
   "id": "0545bd89-f3d9-4770-a845-e04dded36f40",
   "metadata": {},
   "outputs": [],
   "source": [
    "pixi run pred-a100-40gb -- \\\n",
    "    --jackhmmer_binary_path=$(which jackhmmer) \\\n",
    "    --nhmmer_binary_path=$(which nhmmer) \\\n",
    "    --hmmalign_binary_path=$(which hmmalign) \\\n",
    "    --hmmsearch_binary_path=$(which hmmsearch) \\\n",
    "    --hmmbuild_binary_path=$(which hmmbuild) \\\n",
    "    --db_dir=${DB_DIR} \\\n",
    "    --model_dir=${MODEL_DIR} \\\n",
    "    --json_path=${json_path} \\\n",
    "    --output_dir=${output_dir}\n",
    "    \n"
   ]
  }
 ],
 "metadata": {
  "kernelspec": {
   "display_name": "Z shell",
   "language": "zsh",
   "name": "zsh"
  },
  "language_info": {
   "codemirror_mode": "shell",
   "file_extension": ".zsh",
   "mimetype": "text/x-zsh",
   "name": "zsh",
   "pygments_lexer": "shell",
   "version": "5.7.1"
  }
 },
 "nbformat": 4,
 "nbformat_minor": 5
}
